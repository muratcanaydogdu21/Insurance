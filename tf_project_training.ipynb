{
  "nbformat": 4,
  "nbformat_minor": 0,
  "metadata": {
    "colab": {
      "name": "tf_project_training.ipynb",
      "provenance": [],
      "collapsed_sections": [],
      "include_colab_link": true
    },
    "kernelspec": {
      "name": "python3",
      "display_name": "Python 3"
    },
    "language_info": {
      "name": "python"
    },
    "accelerator": "GPU",
    "gpuClass": "standard"
  },
  "cells": [
    {
      "cell_type": "markdown",
      "metadata": {
        "id": "view-in-github",
        "colab_type": "text"
      },
      "source": [
        "<a href=\"https://colab.research.google.com/github/muratcanaydogdu21/Insurance/blob/main/tf_project_training.ipynb\" target=\"_parent\"><img src=\"https://colab.research.google.com/assets/colab-badge.svg\" alt=\"Open In Colab\"/></a>"
      ]
    },
    {
      "cell_type": "code",
      "source": [
        "\n",
        "from google.colab import drive\n",
        "drive.mount('/content/drive')"
      ],
      "metadata": {
        "id": "ai3HSsN3vU_R",
        "colab": {
          "base_uri": "https://localhost:8080/"
        },
        "outputId": "33e066ee-175f-4a46-e4d2-91e7e936a9f4"
      },
      "execution_count": 2,
      "outputs": [
        {
          "output_type": "stream",
          "name": "stdout",
          "text": [
            "Drive already mounted at /content/drive; to attempt to forcibly remount, call drive.mount(\"/content/drive\", force_remount=True).\n"
          ]
        }
      ]
    },
    {
      "cell_type": "code",
      "execution_count": 3,
      "metadata": {
        "id": "Lk04ni858LlG"
      },
      "outputs": [],
      "source": [
        "import pickle\n",
        "import numpy as np\n",
        "import matplotlib.pyplot as plt\n",
        "\n",
        "import tensorflow as tf"
      ]
    },
    {
      "cell_type": "code",
      "source": [
        "X_train = pickle.load(open(\"/content/drive/MyDrive/ColabNotebooks/transfer_learning_project/pickles/X_train.pickle\", \"rb\"))\n",
        "y_train = pickle.load(open(\"/content/drive/MyDrive/transfer_learning_project/pickles/y_train.pickle\", \"rb\"))\n",
        "\n",
        "X_val = pickle.load(open(\"/content/drive/MyDrive/ColabNotebooks/transfer_learning_project/pickles/X_val.pickle\", \"rb\"))\n",
        "y_val = pickle.load(open(\"/content/drive/MyDrive/ColabNotebooks/transfer_learning_project/pickles/y_val.pickle\", \"rb\"))\n",
        "\n",
        "X_test = pickle.load(open(\"/content/drive/MyDrive/ColabNotebooks/transfer_learning_project/pickles/X_test.pickle\", \"rb\"))\n",
        "y_test = pickle.load(open(\"/content/drive/MyDrive/ColabNotebooks/transfer_learning_project/pickles/y_test.pickle\", \"rb\"))"
      ],
      "metadata": {
        "id": "FpgliYep_0jP"
      },
      "execution_count": null,
      "outputs": []
    },
    {
      "cell_type": "code",
      "source": [
        "base_model = tf.keras.applications.mobilenet_v2.MobileNetV2(include_top = False,\n",
        "                                                     weights = 'imagenet',\n",
        "                                                     input_shape = (128,128,3),\n",
        "                                                     pooling=\"max\")"
      ],
      "metadata": {
        "id": "MWKwtgwsrytB",
        "colab": {
          "base_uri": "https://localhost:8080/"
        },
        "outputId": "e3715d41-a9c0-4513-ad85-122d9a321a3f"
      },
      "execution_count": null,
      "outputs": [
        {
          "output_type": "stream",
          "name": "stdout",
          "text": [
            "Downloading data from https://storage.googleapis.com/tensorflow/keras-applications/mobilenet_v2/mobilenet_v2_weights_tf_dim_ordering_tf_kernels_1.0_128_no_top.h5\n",
            "9412608/9406464 [==============================] - 0s 0us/step\n",
            "9420800/9406464 [==============================] - 0s 0us/step\n"
          ]
        }
      ]
    },
    {
      "cell_type": "code",
      "source": [
        "for layer in base_model.layers:\n",
        "    layer.trainable = False"
      ],
      "metadata": {
        "id": "HGfRk2jFvSdJ"
      },
      "execution_count": null,
      "outputs": []
    },
    {
      "cell_type": "code",
      "source": [
        "x = tf.keras.layers.Flatten()(base_model.output)\n",
        "x = tf.keras.layers.Dense(1024, activation='relu')(x)\n",
        "x = tf.keras.layers.Dropout(0.5)(x)\n",
        "x = tf.keras.layers.Dense(1024, activation='relu')(x)\n",
        "x = tf.keras.layers.Dropout(0.5)(x)\n",
        "x = tf.keras.layers.Dense(1024, activation='relu')(x)\n",
        "x = tf.keras.layers.Dropout(0.5)(x)\n",
        "x = tf.keras.layers.Dense(1024, activation='relu')(x)\n",
        "x = tf.keras.layers.Dropout(0.5)(x)\n",
        "x = tf.keras.layers.Dense(1024, activation='relu')(x)\n",
        "x = tf.keras.layers.Dropout(0.5)(x)\n",
        "predictions = tf.keras.layers.Dense(1, activation = 'sigmoid')(x)"
      ],
      "metadata": {
        "id": "hpPnWXFbwn__"
      },
      "execution_count": null,
      "outputs": []
    },
    {
      "cell_type": "code",
      "source": [
        "head_model = tf.keras.Model(inputs = base_model.input, outputs = predictions)"
      ],
      "metadata": {
        "id": "vvx5I2kJvm6D"
      },
      "execution_count": null,
      "outputs": []
    },
    {
      "cell_type": "code",
      "source": [
        "head_model.compile(optimizer='adam', loss=tf.keras.losses.binary_crossentropy, metrics=['accuracy'])"
      ],
      "metadata": {
        "id": "E0e_C7KtvRCF"
      },
      "execution_count": null,
      "outputs": []
    },
    {
      "cell_type": "code",
      "source": [
        "history = head_model.fit(X_train, y_train, batch_size=128, epochs=25, validation_data=(X_val, y_val))"
      ],
      "metadata": {
        "colab": {
          "base_uri": "https://localhost:8080/"
        },
        "id": "vWK8_sdJvsRg",
        "outputId": "f9ed1388-544a-4ce2-ce09-5082344fa6ee"
      },
      "execution_count": null,
      "outputs": [
        {
          "output_type": "stream",
          "name": "stdout",
          "text": [
            "Epoch 1/25\n",
            "13/13 [==============================] - 17s 202ms/step - loss: 1.9161 - accuracy: 0.5462 - val_loss: 0.5881 - val_accuracy: 0.6450\n",
            "Epoch 2/25\n",
            "13/13 [==============================] - 1s 71ms/step - loss: 0.4485 - accuracy: 0.7800 - val_loss: 0.1909 - val_accuracy: 0.9250\n",
            "Epoch 3/25\n",
            "13/13 [==============================] - 1s 66ms/step - loss: 0.1921 - accuracy: 0.9312 - val_loss: 0.1366 - val_accuracy: 0.9450\n",
            "Epoch 4/25\n",
            "13/13 [==============================] - 1s 65ms/step - loss: 0.1652 - accuracy: 0.9356 - val_loss: 0.1927 - val_accuracy: 0.9300\n",
            "Epoch 5/25\n",
            "13/13 [==============================] - 1s 71ms/step - loss: 0.1425 - accuracy: 0.9450 - val_loss: 0.1264 - val_accuracy: 0.9550\n",
            "Epoch 6/25\n",
            "13/13 [==============================] - 1s 66ms/step - loss: 0.1033 - accuracy: 0.9544 - val_loss: 0.1116 - val_accuracy: 0.9500\n",
            "Epoch 7/25\n",
            "13/13 [==============================] - 1s 66ms/step - loss: 0.1103 - accuracy: 0.9538 - val_loss: 0.1252 - val_accuracy: 0.9500\n",
            "Epoch 8/25\n",
            "13/13 [==============================] - 1s 66ms/step - loss: 0.1071 - accuracy: 0.9606 - val_loss: 0.1083 - val_accuracy: 0.9550\n",
            "Epoch 9/25\n",
            "13/13 [==============================] - 1s 66ms/step - loss: 0.0836 - accuracy: 0.9688 - val_loss: 0.1353 - val_accuracy: 0.9450\n",
            "Epoch 10/25\n",
            "13/13 [==============================] - 1s 71ms/step - loss: 0.0606 - accuracy: 0.9781 - val_loss: 0.1142 - val_accuracy: 0.9500\n",
            "Epoch 11/25\n",
            "13/13 [==============================] - 1s 66ms/step - loss: 0.0665 - accuracy: 0.9744 - val_loss: 0.1958 - val_accuracy: 0.9350\n",
            "Epoch 12/25\n",
            "13/13 [==============================] - 1s 66ms/step - loss: 0.0430 - accuracy: 0.9850 - val_loss: 0.1988 - val_accuracy: 0.9450\n",
            "Epoch 13/25\n",
            "13/13 [==============================] - 1s 66ms/step - loss: 0.0434 - accuracy: 0.9844 - val_loss: 0.2015 - val_accuracy: 0.9400\n",
            "Epoch 14/25\n",
            "13/13 [==============================] - 1s 71ms/step - loss: 0.0493 - accuracy: 0.9812 - val_loss: 0.1201 - val_accuracy: 0.9500\n",
            "Epoch 15/25\n",
            "13/13 [==============================] - 1s 66ms/step - loss: 0.0286 - accuracy: 0.9919 - val_loss: 0.1665 - val_accuracy: 0.9450\n",
            "Epoch 16/25\n",
            "13/13 [==============================] - 1s 66ms/step - loss: 0.0302 - accuracy: 0.9887 - val_loss: 0.1773 - val_accuracy: 0.9600\n",
            "Epoch 17/25\n",
            "13/13 [==============================] - 1s 67ms/step - loss: 0.0400 - accuracy: 0.9850 - val_loss: 0.1265 - val_accuracy: 0.9600\n",
            "Epoch 18/25\n",
            "13/13 [==============================] - 1s 66ms/step - loss: 0.0310 - accuracy: 0.9887 - val_loss: 0.1275 - val_accuracy: 0.9550\n",
            "Epoch 19/25\n",
            "13/13 [==============================] - 1s 71ms/step - loss: 0.0225 - accuracy: 0.9894 - val_loss: 0.1475 - val_accuracy: 0.9400\n",
            "Epoch 20/25\n",
            "13/13 [==============================] - 1s 68ms/step - loss: 0.0134 - accuracy: 0.9956 - val_loss: 0.1677 - val_accuracy: 0.9500\n",
            "Epoch 21/25\n",
            "13/13 [==============================] - 1s 67ms/step - loss: 0.0101 - accuracy: 0.9969 - val_loss: 0.1737 - val_accuracy: 0.9550\n",
            "Epoch 22/25\n",
            "13/13 [==============================] - 1s 67ms/step - loss: 0.0091 - accuracy: 0.9962 - val_loss: 0.3010 - val_accuracy: 0.9450\n",
            "Epoch 23/25\n",
            "13/13 [==============================] - 1s 68ms/step - loss: 0.0175 - accuracy: 0.9962 - val_loss: 0.2535 - val_accuracy: 0.9500\n",
            "Epoch 24/25\n",
            "13/13 [==============================] - 1s 72ms/step - loss: 0.0377 - accuracy: 0.9894 - val_loss: 0.2272 - val_accuracy: 0.9450\n",
            "Epoch 25/25\n",
            "13/13 [==============================] - 1s 71ms/step - loss: 0.0621 - accuracy: 0.9781 - val_loss: 0.1962 - val_accuracy: 0.9350\n"
          ]
        }
      ]
    },
    {
      "cell_type": "code",
      "source": [
        "head_model.evaluate(X_test, y_test)"
      ],
      "metadata": {
        "colab": {
          "base_uri": "https://localhost:8080/"
        },
        "id": "A2lowyjHdTfJ",
        "outputId": "c1f7a9df-22b9-44b5-8d4f-226f7314d45a"
      },
      "execution_count": null,
      "outputs": [
        {
          "output_type": "stream",
          "name": "stdout",
          "text": [
            "7/7 [==============================] - 1s 53ms/step - loss: 0.1793 - accuracy: 0.9350\n"
          ]
        },
        {
          "output_type": "execute_result",
          "data": {
            "text/plain": [
              "[0.17926162481307983, 0.9350000023841858]"
            ]
          },
          "metadata": {},
          "execution_count": 10
        }
      ]
    },
    {
      "cell_type": "code",
      "source": [
        "plt.plot(history.history[\"loss\"], label=\"Train\")\n",
        "plt.plot(history.history[\"val_loss\"], label = \"Validation\")\n",
        "plt.xlabel(\"Epoch\")\n",
        "plt.ylabel(\"Loss\")\n",
        "plt.legend()\n",
        "plt.show()"
      ],
      "metadata": {
        "colab": {
          "base_uri": "https://localhost:8080/",
          "height": 282
        },
        "id": "L3tdebEQd_KU",
        "outputId": "162b66d7-3987-4e7a-c98a-b2260cc544b8"
      },
      "execution_count": null,
      "outputs": [
        {
          "output_type": "display_data",
          "data": {
            "text/plain": [
              "<Figure size 432x288 with 1 Axes>"
            ],
            "image/png": "[encoded data removed]"
          },
          "metadata": {
            "needs_background": "light"
          }
        }
      ]
    },
    {
      "cell_type": "code",
      "source": [
        "plt.plot(history.history[\"accuracy\"], label=\"Train\")\n",
        "plt.plot(history.history[\"val_accuracy\"], label = \"Validation\")\n",
        "plt.xlabel(\"Epoch\")\n",
        "plt.ylabel(\"Accuracy\")\n",
        "plt.legend()\n",
        "plt.show()"
      ],
      "metadata": {
        "colab": {
          "base_uri": "https://localhost:8080/",
          "height": 279
        },
        "id": "UxjqIunAeI0p",
        "outputId": "c2bb1c8d-8a3a-4b31-df8b-f9fd8d490609"
      },
      "execution_count": null,
      "outputs": [
        {
          "output_type": "display_data",
          "data": {
            "text/plain": [
              "<Figure size 432x288 with 1 Axes>"
            ],
            "image/png": "[encoded data removed]"
          },
          "metadata": {
            "needs_background": "light"
          }
        }
      ]
    },
    {
      "cell_type": "code",
      "source": [
        "head_model.save(\"trained_model\")"
      ],
      "metadata": {
        "id": "Pbf2-NPqz2Lw"
      },
      "execution_count": null,
      "outputs": []
    },
    {
      "cell_type": "code",
      "source": [],
      "metadata": {
        "id": "rqSBmZ5ixCNv"
      },
      "execution_count": null,
      "outputs": []
    }
  ]
}